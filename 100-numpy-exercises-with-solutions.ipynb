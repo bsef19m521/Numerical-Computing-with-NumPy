{
 "cells": [
  {
   "cell_type": "markdown",
   "id": "41dbf953",
   "metadata": {},
   "source": [
    "### Import the numpy package under the name `np`."
   ]
  },
  {
   "cell_type": "code",
   "execution_count": 1,
   "id": "24f8e016",
   "metadata": {},
   "outputs": [],
   "source": [
    "import numpy as np"
   ]
  },
  {
   "cell_type": "markdown",
   "id": "c63c9a3e",
   "metadata": {},
   "source": [
    "### Print the numpy version and the configuration."
   ]
  },
  {
   "cell_type": "code",
   "execution_count": 3,
   "id": "08e95db6",
   "metadata": {},
   "outputs": [
    {
     "name": "stdout",
     "output_type": "stream",
     "text": [
      "openblas64__info:\n",
      "    libraries = ['openblas64_', 'openblas64_']\n",
      "    library_dirs = ['/usr/local/lib']\n",
      "    language = c\n",
      "    define_macros = [('HAVE_CBLAS', None), ('BLAS_SYMBOL_SUFFIX', '64_'), ('HAVE_BLAS_ILP64', None)]\n",
      "    runtime_library_dirs = ['/usr/local/lib']\n",
      "blas_ilp64_opt_info:\n",
      "    libraries = ['openblas64_', 'openblas64_']\n",
      "    library_dirs = ['/usr/local/lib']\n",
      "    language = c\n",
      "    define_macros = [('HAVE_CBLAS', None), ('BLAS_SYMBOL_SUFFIX', '64_'), ('HAVE_BLAS_ILP64', None)]\n",
      "    runtime_library_dirs = ['/usr/local/lib']\n",
      "openblas64__lapack_info:\n",
      "    libraries = ['openblas64_', 'openblas64_']\n",
      "    library_dirs = ['/usr/local/lib']\n",
      "    language = c\n",
      "    define_macros = [('HAVE_CBLAS', None), ('BLAS_SYMBOL_SUFFIX', '64_'), ('HAVE_BLAS_ILP64', None), ('HAVE_LAPACKE', None)]\n",
      "    runtime_library_dirs = ['/usr/local/lib']\n",
      "lapack_ilp64_opt_info:\n",
      "    libraries = ['openblas64_', 'openblas64_']\n",
      "    library_dirs = ['/usr/local/lib']\n",
      "    language = c\n",
      "    define_macros = [('HAVE_CBLAS', None), ('BLAS_SYMBOL_SUFFIX', '64_'), ('HAVE_BLAS_ILP64', None), ('HAVE_LAPACKE', None)]\n",
      "    runtime_library_dirs = ['/usr/local/lib']\n",
      "Supported SIMD extensions in this NumPy install:\n",
      "    baseline = SSE,SSE2,SSE3\n",
      "    found = SSSE3,SSE41,POPCNT,SSE42,AVX,F16C,FMA3,AVX2,AVX512F,AVX512CD,AVX512_SKX,AVX512_CLX,AVX512_CNL,AVX512_ICL\n",
      "    not found = AVX512_KNL,AVX512_KNM\n"
     ]
    },
    {
     "data": {
      "text/plain": [
       "('1.22.3', None)"
      ]
     },
     "execution_count": 3,
     "metadata": {},
     "output_type": "execute_result"
    }
   ],
   "source": [
    "np.__version__, np.show_config()"
   ]
  },
  {
   "cell_type": "markdown",
   "id": "0462f844",
   "metadata": {},
   "source": [
    "### Create a null vector of size 10."
   ]
  },
  {
   "cell_type": "code",
   "execution_count": 5,
   "id": "7137b123",
   "metadata": {},
   "outputs": [
    {
     "name": "stdout",
     "output_type": "stream",
     "text": [
      "Null vector of size 10 is : \n"
     ]
    },
    {
     "data": {
      "text/plain": [
       "array([0., 0., 0., 0., 0., 0., 0., 0., 0., 0.])"
      ]
     },
     "execution_count": 5,
     "metadata": {},
     "output_type": "execute_result"
    }
   ],
   "source": [
    "print(\"Null vector of size 10 is : \")\n",
    "np.zeros(shape=10)"
   ]
  },
  {
   "cell_type": "markdown",
   "id": "37f6ac94",
   "metadata": {},
   "source": [
    "### How to find the memory size of any array."
   ]
  },
  {
   "cell_type": "code",
   "execution_count": 19,
   "id": "e13888d1",
   "metadata": {},
   "outputs": [
    {
     "name": "stdout",
     "output_type": "stream",
     "text": [
      "Total elements of the array is :  10\n",
      "Size of each element of array is :  8 bytes\n",
      "Memory size of an array is :  80 bytes\n"
     ]
    }
   ],
   "source": [
    "array =  np.zeros(shape=10)\n",
    "array\n",
    "print(\"Total elements of the array is : \", array.size)\n",
    "print(\"Size of each element of array is : \", array.itemsize, \"bytes\")\n",
    "print(\"Memory size of an array is : \", array.size * array.itemsize, \"bytes\")"
   ]
  },
  {
   "cell_type": "markdown",
   "id": "9c138e75",
   "metadata": {},
   "source": [
    "### Create a null vector of size 10 but the fifth value which is `1`."
   ]
  },
  {
   "cell_type": "code",
   "execution_count": 23,
   "id": "ab283539",
   "metadata": {},
   "outputs": [
    {
     "name": "stdout",
     "output_type": "stream",
     "text": [
      "Original Array :  [0 0 0 0 0 0 0 0 0 0]\n",
      "After updation, array is :  [0 0 0 0 1 0 0 0 0 0]\n"
     ]
    }
   ],
   "source": [
    "array = np.zeros(shape=10, dtype=int)\n",
    "print(\"Original Array : \", array)\n",
    "array[4] = 1\n",
    "print(\"After updation, array is : \", array)"
   ]
  },
  {
   "cell_type": "markdown",
   "id": "f67c6ec9",
   "metadata": {},
   "source": [
    "### Create a vector with values ranging from 10 to 49."
   ]
  },
  {
   "cell_type": "code",
   "execution_count": 24,
   "id": "d0fd2480",
   "metadata": {},
   "outputs": [
    {
     "data": {
      "text/plain": [
       "array([10, 11, 12, 13, 14, 15, 16, 17, 18, 19, 20, 21, 22, 23, 24, 25, 26,\n",
       "       27, 28, 29, 30, 31, 32, 33, 34, 35, 36, 37, 38, 39, 40, 41, 42, 43,\n",
       "       44, 45, 46, 47, 48, 49])"
      ]
     },
     "execution_count": 24,
     "metadata": {},
     "output_type": "execute_result"
    }
   ],
   "source": [
    "vector = np.arange(10,50)\n",
    "vector"
   ]
  },
  {
   "cell_type": "markdown",
   "id": "654103a3",
   "metadata": {},
   "source": [
    "### Reverse a vector (first element becomes last)."
   ]
  },
  {
   "cell_type": "code",
   "execution_count": 26,
   "id": "39ca0450",
   "metadata": {},
   "outputs": [
    {
     "name": "stdout",
     "output_type": "stream",
     "text": [
      "Original Vector :  [10 11 12 13 14 15 16 17 18 19]\n",
      "Reversed Vector :  [19 18 17 16 15 14 13 12 11 10]\n"
     ]
    }
   ],
   "source": [
    "# First method\n",
    "vector = np.arange(10,20)\n",
    "print(\"Original Vector : \", vector)\n",
    "reversed_vector = vector[::-1]\n",
    "print(\"Reversed Vector : \", reversed_vector)"
   ]
  },
  {
   "cell_type": "code",
   "execution_count": 53,
   "id": "6f28faba",
   "metadata": {},
   "outputs": [
    {
     "name": "stdout",
     "output_type": "stream",
     "text": [
      "Original Vector :  [ 2  3  4  5  6  7  8  9 10 11]\n",
      "Reversed Vector :  [11, 10, 9, 8, 7, 6, 5, 4, 3, 2]\n"
     ]
    }
   ],
   "source": [
    "# second method\n",
    "vector = np.arange(2,12)\n",
    "print(\"Original Vector : \", vector)\n",
    "reversed_vector = sorted(vector, reverse=True)\n",
    "print(\"Reversed Vector : \", reversed_vector)"
   ]
  },
  {
   "cell_type": "code",
   "execution_count": 54,
   "id": "c111179f",
   "metadata": {},
   "outputs": [
    {
     "name": "stdout",
     "output_type": "stream",
     "text": [
      "Original Vector :  [20 21 22 23 24 25 26 27]\n",
      "Reversed Vector :  [27, 26, 25, 24, 23, 22, 21, 20]\n"
     ]
    }
   ],
   "source": [
    "# Third method\n",
    "vector = np.arange(20,28)\n",
    "print(\"Original Vector : \", vector)\n",
    "reversed_vector = []\n",
    "for i in range(len(vector)-1, -1, -1):\n",
    "    reversed_vector.append(vector[i])\n",
    "print(\"Reversed Vector : \", reversed_vector)"
   ]
  },
  {
   "cell_type": "code",
   "execution_count": null,
   "id": "b86b412f",
   "metadata": {},
   "outputs": [],
   "source": []
  },
  {
   "cell_type": "code",
   "execution_count": null,
   "id": "56fde340",
   "metadata": {},
   "outputs": [],
   "source": []
  },
  {
   "cell_type": "code",
   "execution_count": null,
   "id": "427124fd",
   "metadata": {},
   "outputs": [],
   "source": []
  }
 ],
 "metadata": {
  "kernelspec": {
   "display_name": "Python 3 (ipykernel)",
   "language": "python",
   "name": "python3"
  },
  "language_info": {
   "codemirror_mode": {
    "name": "ipython",
    "version": 3
   },
   "file_extension": ".py",
   "mimetype": "text/x-python",
   "name": "python",
   "nbconvert_exporter": "python",
   "pygments_lexer": "ipython3",
   "version": "3.8.10"
  }
 },
 "nbformat": 4,
 "nbformat_minor": 5
}
