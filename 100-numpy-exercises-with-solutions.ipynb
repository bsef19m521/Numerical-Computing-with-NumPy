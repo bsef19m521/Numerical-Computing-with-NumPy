{
 "cells": [
  {
   "cell_type": "markdown",
   "id": "46db76dd",
   "metadata": {},
   "source": [
    "### Import the numpy package under the name `np`."
   ]
  },
  {
   "cell_type": "code",
   "execution_count": 1,
   "id": "24901348",
   "metadata": {},
   "outputs": [],
   "source": [
    "import numpy as np"
   ]
  },
  {
   "cell_type": "markdown",
   "id": "67e1c3d9",
   "metadata": {},
   "source": [
    "### Print the numpy version and the configuration."
   ]
  },
  {
   "cell_type": "code",
   "execution_count": 3,
   "id": "2bf4e654",
   "metadata": {},
   "outputs": [
    {
     "name": "stdout",
     "output_type": "stream",
     "text": [
      "openblas64__info:\n",
      "    libraries = ['openblas64_', 'openblas64_']\n",
      "    library_dirs = ['/usr/local/lib']\n",
      "    language = c\n",
      "    define_macros = [('HAVE_CBLAS', None), ('BLAS_SYMBOL_SUFFIX', '64_'), ('HAVE_BLAS_ILP64', None)]\n",
      "    runtime_library_dirs = ['/usr/local/lib']\n",
      "blas_ilp64_opt_info:\n",
      "    libraries = ['openblas64_', 'openblas64_']\n",
      "    library_dirs = ['/usr/local/lib']\n",
      "    language = c\n",
      "    define_macros = [('HAVE_CBLAS', None), ('BLAS_SYMBOL_SUFFIX', '64_'), ('HAVE_BLAS_ILP64', None)]\n",
      "    runtime_library_dirs = ['/usr/local/lib']\n",
      "openblas64__lapack_info:\n",
      "    libraries = ['openblas64_', 'openblas64_']\n",
      "    library_dirs = ['/usr/local/lib']\n",
      "    language = c\n",
      "    define_macros = [('HAVE_CBLAS', None), ('BLAS_SYMBOL_SUFFIX', '64_'), ('HAVE_BLAS_ILP64', None), ('HAVE_LAPACKE', None)]\n",
      "    runtime_library_dirs = ['/usr/local/lib']\n",
      "lapack_ilp64_opt_info:\n",
      "    libraries = ['openblas64_', 'openblas64_']\n",
      "    library_dirs = ['/usr/local/lib']\n",
      "    language = c\n",
      "    define_macros = [('HAVE_CBLAS', None), ('BLAS_SYMBOL_SUFFIX', '64_'), ('HAVE_BLAS_ILP64', None), ('HAVE_LAPACKE', None)]\n",
      "    runtime_library_dirs = ['/usr/local/lib']\n",
      "Supported SIMD extensions in this NumPy install:\n",
      "    baseline = SSE,SSE2,SSE3\n",
      "    found = SSSE3,SSE41,POPCNT,SSE42,AVX,F16C,FMA3,AVX2,AVX512F,AVX512CD,AVX512_SKX,AVX512_CLX,AVX512_CNL,AVX512_ICL\n",
      "    not found = AVX512_KNL,AVX512_KNM\n"
     ]
    },
    {
     "data": {
      "text/plain": [
       "('1.22.3', None)"
      ]
     },
     "execution_count": 3,
     "metadata": {},
     "output_type": "execute_result"
    }
   ],
   "source": [
    "np.__version__, np.show_config()"
   ]
  },
  {
   "cell_type": "markdown",
   "id": "ffd56cbc",
   "metadata": {},
   "source": [
    "### Create a null vector of size 10."
   ]
  },
  {
   "cell_type": "code",
   "execution_count": 5,
   "id": "21020d0e",
   "metadata": {},
   "outputs": [
    {
     "name": "stdout",
     "output_type": "stream",
     "text": [
      "Null vector of size 10 is : \n"
     ]
    },
    {
     "data": {
      "text/plain": [
       "array([0., 0., 0., 0., 0., 0., 0., 0., 0., 0.])"
      ]
     },
     "execution_count": 5,
     "metadata": {},
     "output_type": "execute_result"
    }
   ],
   "source": [
    "print(\"Null vector of size 10 is : \")\n",
    "np.zeros(shape=10)"
   ]
  },
  {
   "cell_type": "markdown",
   "id": "7cd28e3d",
   "metadata": {},
   "source": [
    "### How to find the memory size of any array."
   ]
  },
  {
   "cell_type": "code",
   "execution_count": 19,
   "id": "2d5d1318",
   "metadata": {},
   "outputs": [
    {
     "name": "stdout",
     "output_type": "stream",
     "text": [
      "Total elements of the array is :  10\n",
      "Size of each element of array is :  8 bytes\n",
      "Memory size of an array is :  80 bytes\n"
     ]
    }
   ],
   "source": [
    "array =  np.zeros(shape=10)\n",
    "array\n",
    "print(\"Total elements of the array is : \", array.size)\n",
    "print(\"Size of each element of array is : \", array.itemsize, \"bytes\")\n",
    "print(\"Memory size of an array is : \", array.size * array.itemsize, \"bytes\")"
   ]
  },
  {
   "cell_type": "markdown",
   "id": "f277ade0",
   "metadata": {},
   "source": [
    "### Create a null vector of size 10 but the fifth value which is `1`."
   ]
  },
  {
   "cell_type": "code",
   "execution_count": 23,
   "id": "f5c749d9",
   "metadata": {},
   "outputs": [
    {
     "name": "stdout",
     "output_type": "stream",
     "text": [
      "Original Array :  [0 0 0 0 0 0 0 0 0 0]\n",
      "After updation, array is :  [0 0 0 0 1 0 0 0 0 0]\n"
     ]
    }
   ],
   "source": [
    "array = np.zeros(shape=10, dtype=int)\n",
    "print(\"Original Array : \", array)\n",
    "array[4] = 1\n",
    "print(\"After updation, array is : \", array)"
   ]
  },
  {
   "cell_type": "markdown",
   "id": "8773b936",
   "metadata": {},
   "source": [
    "### Create a vector with values ranging from 10 to 49."
   ]
  },
  {
   "cell_type": "code",
   "execution_count": 24,
   "id": "c725e8c6",
   "metadata": {},
   "outputs": [
    {
     "data": {
      "text/plain": [
       "array([10, 11, 12, 13, 14, 15, 16, 17, 18, 19, 20, 21, 22, 23, 24, 25, 26,\n",
       "       27, 28, 29, 30, 31, 32, 33, 34, 35, 36, 37, 38, 39, 40, 41, 42, 43,\n",
       "       44, 45, 46, 47, 48, 49])"
      ]
     },
     "execution_count": 24,
     "metadata": {},
     "output_type": "execute_result"
    }
   ],
   "source": [
    "vector = np.arange(10,50)\n",
    "vector"
   ]
  },
  {
   "cell_type": "markdown",
   "id": "a82347bc",
   "metadata": {},
   "source": [
    "### Reverse a vector (first element becomes last)."
   ]
  },
  {
   "cell_type": "code",
   "execution_count": 26,
   "id": "181dbb2e",
   "metadata": {},
   "outputs": [
    {
     "name": "stdout",
     "output_type": "stream",
     "text": [
      "Original Vector :  [10 11 12 13 14 15 16 17 18 19]\n",
      "Reversed Vector :  [19 18 17 16 15 14 13 12 11 10]\n"
     ]
    }
   ],
   "source": [
    "# First method\n",
    "vector = np.arange(10,20)\n",
    "print(\"Original Vector : \", vector)\n",
    "reversed_vector = vector[::-1]\n",
    "print(\"Reversed Vector : \", reversed_vector)"
   ]
  },
  {
   "cell_type": "code",
   "execution_count": 53,
   "id": "6c5c4f47",
   "metadata": {},
   "outputs": [
    {
     "name": "stdout",
     "output_type": "stream",
     "text": [
      "Original Vector :  [ 2  3  4  5  6  7  8  9 10 11]\n",
      "Reversed Vector :  [11, 10, 9, 8, 7, 6, 5, 4, 3, 2]\n"
     ]
    }
   ],
   "source": [
    "# second method\n",
    "vector = np.arange(2,12)\n",
    "print(\"Original Vector : \", vector)\n",
    "reversed_vector = sorted(vector, reverse=True)\n",
    "print(\"Reversed Vector : \", reversed_vector)"
   ]
  },
  {
   "cell_type": "code",
   "execution_count": 54,
   "id": "d69c3e90",
   "metadata": {},
   "outputs": [
    {
     "name": "stdout",
     "output_type": "stream",
     "text": [
      "Original Vector :  [20 21 22 23 24 25 26 27]\n",
      "Reversed Vector :  [27, 26, 25, 24, 23, 22, 21, 20]\n"
     ]
    }
   ],
   "source": [
    "# Third method\n",
    "vector = np.arange(20,28)\n",
    "print(\"Original Vector : \", vector)\n",
    "reversed_vector = []\n",
    "for i in range(len(vector)-1, -1, -1):\n",
    "    reversed_vector.append(vector[i])\n",
    "print(\"Reversed Vector : \", reversed_vector)"
   ]
  },
  {
   "cell_type": "markdown",
   "id": "f8388bcd",
   "metadata": {},
   "source": [
    "### Create a `3x3` matrix with values ranging from `0 to 8`."
   ]
  },
  {
   "cell_type": "code",
   "execution_count": 57,
   "id": "bfda3e44",
   "metadata": {},
   "outputs": [
    {
     "data": {
      "text/plain": [
       "array([[0, 1, 2],\n",
       "       [3, 4, 5],\n",
       "       [6, 7, 8]])"
      ]
     },
     "execution_count": 57,
     "metadata": {},
     "output_type": "execute_result"
    }
   ],
   "source": [
    "matrix = np.arange(0,9).reshape(3,3)\n",
    "matrix"
   ]
  },
  {
   "cell_type": "markdown",
   "id": "a57bd5b0",
   "metadata": {},
   "source": [
    "### Find indices of non-zero elements from `[1,2,0,0,4,0]`."
   ]
  },
  {
   "cell_type": "code",
   "execution_count": 65,
   "id": "b471edc3",
   "metadata": {},
   "outputs": [
    {
     "name": "stdout",
     "output_type": "stream",
     "text": [
      "Total non-zeros elements are :  3\n",
      "Indices of non-zeros elements are :  [0 1 4]\n",
      "(array([0, 0, 0]), array([0, 1, 4]))\n"
     ]
    }
   ],
   "source": [
    "array = [1,2,0,0,4,0]\n",
    "array = np.nonzero([array])\n",
    "print(\"Total non-zeros elements are : \",len(array[0]))\n",
    "print(\"Indices of non-zeros elements are : \" , array[1])\n",
    "print(array)"
   ]
  },
  {
   "cell_type": "markdown",
   "id": "d815d722",
   "metadata": {},
   "source": [
    "### Create a 3x3 identity matrix of type integer. `(Hint np.eye())`"
   ]
  },
  {
   "cell_type": "code",
   "execution_count": 69,
   "id": "3011078f",
   "metadata": {},
   "outputs": [
    {
     "data": {
      "text/plain": [
       "array([[1, 0, 0],\n",
       "       [0, 1, 0],\n",
       "       [0, 0, 1]])"
      ]
     },
     "execution_count": 69,
     "metadata": {},
     "output_type": "execute_result"
    }
   ],
   "source": [
    "matrix = np.eye(3, dtype = int)\n",
    "matrix"
   ]
  },
  {
   "cell_type": "markdown",
   "id": "9dec7d95",
   "metadata": {},
   "source": [
    "### Create a 3x3x3 array with random values"
   ]
  },
  {
   "cell_type": "code",
   "execution_count": 89,
   "id": "b4603f38",
   "metadata": {},
   "outputs": [
    {
     "name": "stdout",
     "output_type": "stream",
     "text": [
      "3x3x3 array with random values : \n",
      "[[[49 98 97]\n",
      "  [58 88 99]\n",
      "  [81 84 52]]\n",
      "\n",
      " [[53 35  4]\n",
      "  [49 98 53]\n",
      "  [65 67 61]]\n",
      "\n",
      " [[10 84 13]\n",
      "  [51 32 99]\n",
      "  [12 25 32]]]\n"
     ]
    }
   ],
   "source": [
    "# First Method\n",
    "array = np.random.randint(1,100, 27).reshape(3,3,3)\n",
    "print(\"3x3x3 array with random values : \" , array, sep=\"\\n\")"
   ]
  },
  {
   "cell_type": "code",
   "execution_count": 93,
   "id": "0122c63c",
   "metadata": {},
   "outputs": [
    {
     "name": "stdout",
     "output_type": "stream",
     "text": [
      "3x3x3 array with random values : \n",
      "[[[97 58 96]\n",
      "  [16 89  1]\n",
      "  [ 7 78 26]]\n",
      "\n",
      " [[27 60 73]\n",
      "  [78 72 41]\n",
      "  [58 22 65]]\n",
      "\n",
      " [[82 82 60]\n",
      "  [91 37 30]\n",
      "  [31 95 83]]]\n"
     ]
    }
   ],
   "source": [
    "# Second Method\n",
    "array = np.random.randint(1,100, (3,3,3))\n",
    "print(\"3x3x3 array with random values : \" , array, sep=\"\\n\")"
   ]
  },
  {
   "cell_type": "code",
   "execution_count": 95,
   "id": "22c5e8cb",
   "metadata": {},
   "outputs": [
    {
     "name": "stdout",
     "output_type": "stream",
     "text": [
      "3x3x3 array with random values : \n",
      "[[[0.69292722 0.68902246 0.04786369]\n",
      "  [0.80568531 0.14118223 0.79656065]\n",
      "  [0.24070537 0.46495718 0.5992354 ]]\n",
      "\n",
      " [[0.92245723 0.81750677 0.79519082]\n",
      "  [0.1845357  0.33108126 0.97306186]\n",
      "  [0.53395456 0.11425567 0.89177813]]\n",
      "\n",
      " [[0.59385643 0.71290632 0.68688431]\n",
      "  [0.1043174  0.80897724 0.2160545 ]\n",
      "  [0.689038   0.93475177 0.71101708]]]\n"
     ]
    }
   ],
   "source": [
    "# Third Method\n",
    "array = np.random.random((3,3,3))\n",
    "print(\"3x3x3 array with random values : \" , array, sep=\"\\n\")"
   ]
  },
  {
   "cell_type": "markdown",
   "id": "8efab494",
   "metadata": {},
   "source": [
    "### Create a 10x10 array with random values and find the minimum and maximum values."
   ]
  },
  {
   "cell_type": "code",
   "execution_count": 104,
   "id": "38b57237",
   "metadata": {},
   "outputs": [
    {
     "name": "stdout",
     "output_type": "stream",
     "text": [
      "10x10 array with random values : \n",
      "[[71 63 63 96 73 75 82 91 53 60]\n",
      " [37 98 79 52 23 75 26 13 83 21]\n",
      " [29 13 63 87 12 20 41 25 59 21]\n",
      " [65 87 85 33 46 78 12 61 64 99]\n",
      " [64 95 79 81 96 69 84 36 18 46]\n",
      " [27 94 59 63 63 84 62 20 28 85]\n",
      " [90 74 52 23 11 90 73 82 18 32]\n",
      " [16 10 39 70 94 82 40 49 80 22]\n",
      " [13 53 25 81 70 58 64 87 92 46]\n",
      " [22 39 11 22 66 71 44 91 90 25]]\n",
      "Minimum value in 10x10 is :  10\n",
      "Maximum value in 10x10 is :  99\n"
     ]
    }
   ],
   "source": [
    "# First Method\n",
    "array = np.random.randint(10,100, (10,10))\n",
    "print(\"10x10 array with random values : \",array, sep=\"\\n\")\n",
    "print(\"Minimum value in 10x10 is : \", array.min())\n",
    "print(\"Maximum value in 10x10 is : \", array.max())"
   ]
  },
  {
   "cell_type": "code",
   "execution_count": 108,
   "id": "f71daddd",
   "metadata": {},
   "outputs": [
    {
     "name": "stdout",
     "output_type": "stream",
     "text": [
      "10x10 array with random values : \n",
      "[[0.81686429 0.0771806  0.31932817 0.14231927 0.91868018 0.26019433\n",
      "  0.04753259 0.6664626  0.58548678 0.6792984 ]\n",
      " [0.84508414 0.84972386 0.01600216 0.49863144 0.98565401 0.33655439\n",
      "  0.07387186 0.15524781 0.73703025 0.09632862]\n",
      " [0.07172783 0.87946976 0.38722663 0.91460394 0.40062507 0.53798833\n",
      "  0.33595374 0.77916906 0.9562804  0.2386366 ]\n",
      " [0.19036763 0.69004783 0.23319203 0.63590758 0.62795477 0.02804543\n",
      "  0.88026805 0.45150703 0.02331299 0.90044219]\n",
      " [0.49750986 0.32719965 0.24305229 0.29477505 0.12804083 0.82310887\n",
      "  0.28241807 0.86513913 0.16372487 0.39901724]\n",
      " [0.4750039  0.14476457 0.27456    0.52739576 0.54817933 0.07542734\n",
      "  0.39396306 0.73564815 0.37696986 0.7203146 ]\n",
      " [0.58128364 0.99988192 0.98445367 0.82812611 0.25322176 0.54117692\n",
      "  0.92877352 0.98069159 0.0025231  0.39066292]\n",
      " [0.40952955 0.60936616 0.67210068 0.16313701 0.20107917 0.13185477\n",
      "  0.41157902 0.4605959  0.30127889 0.93735508]\n",
      " [0.86372495 0.33724011 0.59164013 0.17248571 0.37412056 0.12805628\n",
      "  0.16837556 0.90289465 0.17759014 0.86550963]\n",
      " [0.16038263 0.85223349 0.53338748 0.29603029 0.98349264 0.52626361\n",
      "  0.9546094  0.02520966 0.39927125 0.10415334]]\n",
      "Minimum value in 10x10 is :  0.0025230975554060286\n",
      "Maximum value in 10x10 is :  0.9998819175244625\n"
     ]
    }
   ],
   "source": [
    "array = np.random.random((10,10))\n",
    "print(\"10x10 array with random values : \",array, sep=\"\\n\")\n",
    "print(\"Minimum value in 10x10 is : \", array.min())\n",
    "print(\"Maximum value in 10x10 is : \", array.max())"
   ]
  },
  {
   "cell_type": "markdown",
   "id": "92cae639",
   "metadata": {},
   "source": [
    "### Create a random vector of size 30 and find the `mean` value."
   ]
  },
  {
   "cell_type": "code",
   "execution_count": 112,
   "id": "764e08d1",
   "metadata": {},
   "outputs": [
    {
     "name": "stdout",
     "output_type": "stream",
     "text": [
      "vector : \n",
      "[63 19 70 37 72 95 34 76 25 70  1 85 30 62 31 62 27 28 27 63 12 35 40 45\n",
      " 77 34 16 82 80 11]\n",
      "Mean of the vector is :  46.96666666666667\n"
     ]
    }
   ],
   "source": [
    "# First Method\n",
    "vector = np.random.randint(1,100, 30)\n",
    "print(\"vector : \", vector , sep=\"\\n\")\n",
    "print(\"Mean of the vector is : \", vector.mean())"
   ]
  },
  {
   "cell_type": "code",
   "execution_count": 115,
   "id": "7856ac42",
   "metadata": {},
   "outputs": [
    {
     "name": "stdout",
     "output_type": "stream",
     "text": [
      "vector : \n",
      "[0.40646101 0.63508348 0.86852128 0.35128457 0.89982337 0.7210841\n",
      " 0.23058575 0.66442415 0.97797253 0.32020707 0.58795864 0.10433148\n",
      " 0.86495337 0.46457668 0.82929115 0.81885063 0.54202214 0.77887757\n",
      " 0.10878504 0.02729844 0.67666325 0.9977666  0.64325026 0.68571911\n",
      " 0.14396261 0.24737626 0.03337356 0.59076535 0.63416392 0.84389635]\n",
      "Mean of the vector is :  0.5566443237261397\n"
     ]
    }
   ],
   "source": [
    "# Second Method\n",
    "vector = np.random.random(size=30)\n",
    "print(\"vector : \", vector , sep=\"\\n\")\n",
    "print(\"Mean of the vector is : \", vector.mean())"
   ]
  },
  {
   "cell_type": "markdown",
   "id": "f499aa4d",
   "metadata": {},
   "source": [
    "### Create a 2d array with `1` on the border and `0` inside."
   ]
  },
  {
   "cell_type": "code",
   "execution_count": 123,
   "id": "79f2dcf6",
   "metadata": {},
   "outputs": [
    {
     "data": {
      "text/plain": [
       "array([[1, 1, 1, 1, 1, 1, 1, 1, 1, 1],\n",
       "       [1, 1, 1, 1, 1, 1, 1, 1, 1, 1],\n",
       "       [1, 1, 1, 1, 1, 1, 1, 1, 1, 1],\n",
       "       [1, 1, 1, 1, 1, 1, 1, 1, 1, 1],\n",
       "       [1, 1, 1, 1, 1, 1, 1, 1, 1, 1],\n",
       "       [1, 1, 1, 1, 1, 1, 1, 1, 1, 1],\n",
       "       [1, 1, 1, 1, 1, 1, 1, 1, 1, 1],\n",
       "       [1, 1, 1, 1, 1, 1, 1, 1, 1, 1],\n",
       "       [1, 1, 1, 1, 1, 1, 1, 1, 1, 1],\n",
       "       [1, 1, 1, 1, 1, 1, 1, 1, 1, 1]])"
      ]
     },
     "execution_count": 123,
     "metadata": {},
     "output_type": "execute_result"
    }
   ],
   "source": [
    "array2D = np.ones((10,10), dtype=int)\n",
    "array2D"
   ]
  },
  {
   "cell_type": "code",
   "execution_count": 125,
   "id": "e49c4d62",
   "metadata": {},
   "outputs": [
    {
     "name": "stdout",
     "output_type": "stream",
     "text": [
      "2d array with 1 on the border and 0 inside : \n",
      "[[1 1 1 1 1 1 1 1 1 1]\n",
      " [1 0 0 0 0 0 0 0 0 1]\n",
      " [1 0 0 0 0 0 0 0 0 1]\n",
      " [1 0 0 0 0 0 0 0 0 1]\n",
      " [1 0 0 0 0 0 0 0 0 1]\n",
      " [1 0 0 0 0 0 0 0 0 1]\n",
      " [1 0 0 0 0 0 0 0 0 1]\n",
      " [1 0 0 0 0 0 0 0 0 1]\n",
      " [1 0 0 0 0 0 0 0 0 1]\n",
      " [1 1 1 1 1 1 1 1 1 1]]\n"
     ]
    }
   ],
   "source": [
    "array2D[1:-1,1:-1]=0\n",
    "print(\"2d array with 1 on the border and 0 inside : \", array2D, sep=\"\\n\")"
   ]
  },
  {
   "cell_type": "code",
   "execution_count": null,
   "id": "2d9b630b",
   "metadata": {},
   "outputs": [],
   "source": []
  },
  {
   "cell_type": "markdown",
   "id": "41c66677",
   "metadata": {},
   "source": [
    "### How to add a border (filled with 0's) around an existing array."
   ]
  },
  {
   "cell_type": "code",
   "execution_count": 146,
   "id": "f540096c",
   "metadata": {},
   "outputs": [
    {
     "name": "stdout",
     "output_type": "stream",
     "text": [
      "[[0 0 0 0 0 0 0]\n",
      " [0 1 1 1 1 1 0]\n",
      " [0 1 1 1 1 1 0]\n",
      " [0 1 1 1 1 1 0]\n",
      " [0 1 1 1 1 1 0]\n",
      " [0 1 1 1 1 1 0]\n",
      " [0 0 0 0 0 0 0]]\n"
     ]
    }
   ],
   "source": [
    "# First Method\n",
    "array = np.ones((5,5), dtype=int)\n",
    "array = np.pad(array, pad_width=1, mode='constant', constant_values=0)\n",
    "print(array)"
   ]
  },
  {
   "cell_type": "code",
   "execution_count": 153,
   "id": "ea9d0064",
   "metadata": {},
   "outputs": [
    {
     "data": {
      "text/plain": [
       "array([[0, 0, 0, 0, 0, 0, 0],\n",
       "       [0, 6, 8, 2, 7, 1, 0],\n",
       "       [0, 4, 6, 7, 7, 3, 0],\n",
       "       [0, 7, 4, 1, 3, 9, 0],\n",
       "       [0, 3, 2, 5, 8, 7, 0],\n",
       "       [0, 1, 6, 9, 1, 7, 0],\n",
       "       [0, 0, 0, 0, 0, 0, 0]])"
      ]
     },
     "execution_count": 153,
     "metadata": {},
     "output_type": "execute_result"
    }
   ],
   "source": [
    "# Second method\n",
    "array = np.random.randint(1,10,(5,5))\n",
    "array = np.pad(array, pad_width=1, mode='constant', constant_values=0)\n",
    "array"
   ]
  },
  {
   "cell_type": "code",
   "execution_count": 155,
   "id": "9b0f8cc9",
   "metadata": {},
   "outputs": [
    {
     "name": "stdout",
     "output_type": "stream",
     "text": [
      "nan\n",
      "False\n",
      "False\n",
      "nan\n",
      "True\n",
      "False\n"
     ]
    }
   ],
   "source": [
    "print(0 * np.nan)\n",
    "print(np.nan == np.nan)\n",
    "print(np.inf > np.nan)\n",
    "print(np.nan - np.nan)\n",
    "print(np.nan in set([np.nan]))\n",
    "print(0.3 == 3 * 0.1)"
   ]
  },
  {
   "cell_type": "code",
   "execution_count": null,
   "id": "df9a6dc9",
   "metadata": {},
   "outputs": [],
   "source": []
  },
  {
   "cell_type": "code",
   "execution_count": null,
   "id": "429b1dbe",
   "metadata": {},
   "outputs": [],
   "source": []
  }
 ],
 "metadata": {
  "kernelspec": {
   "display_name": "Python 3 (ipykernel)",
   "language": "python",
   "name": "python3"
  },
  "language_info": {
   "codemirror_mode": {
    "name": "ipython",
    "version": 3
   },
   "file_extension": ".py",
   "mimetype": "text/x-python",
   "name": "python",
   "nbconvert_exporter": "python",
   "pygments_lexer": "ipython3",
   "version": "3.8.10"
  }
 },
 "nbformat": 4,
 "nbformat_minor": 5
}
