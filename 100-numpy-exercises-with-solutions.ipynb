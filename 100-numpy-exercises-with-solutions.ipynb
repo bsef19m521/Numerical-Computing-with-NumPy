{
 "cells": [
  {
   "cell_type": "markdown",
   "id": "f126a21f",
   "metadata": {},
   "source": [
    "### Import the numpy package under the name `np`."
   ]
  },
  {
   "cell_type": "code",
   "execution_count": 1,
   "id": "2b585191",
   "metadata": {},
   "outputs": [],
   "source": [
    "import numpy as np"
   ]
  },
  {
   "cell_type": "markdown",
   "id": "74174d46",
   "metadata": {},
   "source": [
    "### Print the numpy version and the configuration."
   ]
  },
  {
   "cell_type": "code",
   "execution_count": 3,
   "id": "ed7ba8eb",
   "metadata": {},
   "outputs": [
    {
     "name": "stdout",
     "output_type": "stream",
     "text": [
      "openblas64__info:\n",
      "    libraries = ['openblas64_', 'openblas64_']\n",
      "    library_dirs = ['/usr/local/lib']\n",
      "    language = c\n",
      "    define_macros = [('HAVE_CBLAS', None), ('BLAS_SYMBOL_SUFFIX', '64_'), ('HAVE_BLAS_ILP64', None)]\n",
      "    runtime_library_dirs = ['/usr/local/lib']\n",
      "blas_ilp64_opt_info:\n",
      "    libraries = ['openblas64_', 'openblas64_']\n",
      "    library_dirs = ['/usr/local/lib']\n",
      "    language = c\n",
      "    define_macros = [('HAVE_CBLAS', None), ('BLAS_SYMBOL_SUFFIX', '64_'), ('HAVE_BLAS_ILP64', None)]\n",
      "    runtime_library_dirs = ['/usr/local/lib']\n",
      "openblas64__lapack_info:\n",
      "    libraries = ['openblas64_', 'openblas64_']\n",
      "    library_dirs = ['/usr/local/lib']\n",
      "    language = c\n",
      "    define_macros = [('HAVE_CBLAS', None), ('BLAS_SYMBOL_SUFFIX', '64_'), ('HAVE_BLAS_ILP64', None), ('HAVE_LAPACKE', None)]\n",
      "    runtime_library_dirs = ['/usr/local/lib']\n",
      "lapack_ilp64_opt_info:\n",
      "    libraries = ['openblas64_', 'openblas64_']\n",
      "    library_dirs = ['/usr/local/lib']\n",
      "    language = c\n",
      "    define_macros = [('HAVE_CBLAS', None), ('BLAS_SYMBOL_SUFFIX', '64_'), ('HAVE_BLAS_ILP64', None), ('HAVE_LAPACKE', None)]\n",
      "    runtime_library_dirs = ['/usr/local/lib']\n",
      "Supported SIMD extensions in this NumPy install:\n",
      "    baseline = SSE,SSE2,SSE3\n",
      "    found = SSSE3,SSE41,POPCNT,SSE42,AVX,F16C,FMA3,AVX2,AVX512F,AVX512CD,AVX512_SKX,AVX512_CLX,AVX512_CNL,AVX512_ICL\n",
      "    not found = AVX512_KNL,AVX512_KNM\n"
     ]
    },
    {
     "data": {
      "text/plain": [
       "('1.22.3', None)"
      ]
     },
     "execution_count": 3,
     "metadata": {},
     "output_type": "execute_result"
    }
   ],
   "source": [
    "np.__version__, np.show_config()"
   ]
  },
  {
   "cell_type": "markdown",
   "id": "01a59502",
   "metadata": {},
   "source": [
    "### Create a null vector of size 10."
   ]
  },
  {
   "cell_type": "code",
   "execution_count": 5,
   "id": "60d8ab2d",
   "metadata": {},
   "outputs": [
    {
     "name": "stdout",
     "output_type": "stream",
     "text": [
      "Null vector of size 10 is : \n"
     ]
    },
    {
     "data": {
      "text/plain": [
       "array([0., 0., 0., 0., 0., 0., 0., 0., 0., 0.])"
      ]
     },
     "execution_count": 5,
     "metadata": {},
     "output_type": "execute_result"
    }
   ],
   "source": [
    "print(\"Null vector of size 10 is : \")\n",
    "np.zeros(shape=10)"
   ]
  },
  {
   "cell_type": "markdown",
   "id": "946248a8",
   "metadata": {},
   "source": [
    "### How to find the memory size of any array."
   ]
  },
  {
   "cell_type": "code",
   "execution_count": 19,
   "id": "770e0bb1",
   "metadata": {},
   "outputs": [
    {
     "name": "stdout",
     "output_type": "stream",
     "text": [
      "Total elements of the array is :  10\n",
      "Size of each element of array is :  8 bytes\n",
      "Memory size of an array is :  80 bytes\n"
     ]
    }
   ],
   "source": [
    "array =  np.zeros(shape=10)\n",
    "array\n",
    "print(\"Total elements of the array is : \", array.size)\n",
    "print(\"Size of each element of array is : \", array.itemsize, \"bytes\")\n",
    "print(\"Memory size of an array is : \", array.size * array.itemsize, \"bytes\")"
   ]
  },
  {
   "cell_type": "markdown",
   "id": "c554415f",
   "metadata": {},
   "source": [
    "### Create a null vector of size 10 but the fifth value which is `1`."
   ]
  },
  {
   "cell_type": "code",
   "execution_count": 23,
   "id": "5dad36ce",
   "metadata": {},
   "outputs": [
    {
     "name": "stdout",
     "output_type": "stream",
     "text": [
      "Original Array :  [0 0 0 0 0 0 0 0 0 0]\n",
      "After updation, array is :  [0 0 0 0 1 0 0 0 0 0]\n"
     ]
    }
   ],
   "source": [
    "array = np.zeros(shape=10, dtype=int)\n",
    "print(\"Original Array : \", array)\n",
    "array[4] = 1\n",
    "print(\"After updation, array is : \", array)"
   ]
  },
  {
   "cell_type": "markdown",
   "id": "16effefa",
   "metadata": {},
   "source": [
    "### Create a vector with values ranging from 10 to 49."
   ]
  },
  {
   "cell_type": "code",
   "execution_count": 24,
   "id": "41e914fb",
   "metadata": {},
   "outputs": [
    {
     "data": {
      "text/plain": [
       "array([10, 11, 12, 13, 14, 15, 16, 17, 18, 19, 20, 21, 22, 23, 24, 25, 26,\n",
       "       27, 28, 29, 30, 31, 32, 33, 34, 35, 36, 37, 38, 39, 40, 41, 42, 43,\n",
       "       44, 45, 46, 47, 48, 49])"
      ]
     },
     "execution_count": 24,
     "metadata": {},
     "output_type": "execute_result"
    }
   ],
   "source": [
    "vector = np.arange(10,50)\n",
    "vector"
   ]
  },
  {
   "cell_type": "markdown",
   "id": "18c1ed6c",
   "metadata": {},
   "source": [
    "### Reverse a vector (first element becomes last)."
   ]
  },
  {
   "cell_type": "code",
   "execution_count": 26,
   "id": "74811c85",
   "metadata": {},
   "outputs": [
    {
     "name": "stdout",
     "output_type": "stream",
     "text": [
      "Original Vector :  [10 11 12 13 14 15 16 17 18 19]\n",
      "Reversed Vector :  [19 18 17 16 15 14 13 12 11 10]\n"
     ]
    }
   ],
   "source": [
    "# First method\n",
    "vector = np.arange(10,20)\n",
    "print(\"Original Vector : \", vector)\n",
    "reversed_vector = vector[::-1]\n",
    "print(\"Reversed Vector : \", reversed_vector)"
   ]
  },
  {
   "cell_type": "code",
   "execution_count": 53,
   "id": "f69f8eac",
   "metadata": {},
   "outputs": [
    {
     "name": "stdout",
     "output_type": "stream",
     "text": [
      "Original Vector :  [ 2  3  4  5  6  7  8  9 10 11]\n",
      "Reversed Vector :  [11, 10, 9, 8, 7, 6, 5, 4, 3, 2]\n"
     ]
    }
   ],
   "source": [
    "# second method\n",
    "vector = np.arange(2,12)\n",
    "print(\"Original Vector : \", vector)\n",
    "reversed_vector = sorted(vector, reverse=True)\n",
    "print(\"Reversed Vector : \", reversed_vector)"
   ]
  },
  {
   "cell_type": "code",
   "execution_count": 54,
   "id": "81a1a84c",
   "metadata": {},
   "outputs": [
    {
     "name": "stdout",
     "output_type": "stream",
     "text": [
      "Original Vector :  [20 21 22 23 24 25 26 27]\n",
      "Reversed Vector :  [27, 26, 25, 24, 23, 22, 21, 20]\n"
     ]
    }
   ],
   "source": [
    "# Third method\n",
    "vector = np.arange(20,28)\n",
    "print(\"Original Vector : \", vector)\n",
    "reversed_vector = []\n",
    "for i in range(len(vector)-1, -1, -1):\n",
    "    reversed_vector.append(vector[i])\n",
    "print(\"Reversed Vector : \", reversed_vector)"
   ]
  },
  {
   "cell_type": "markdown",
   "id": "b2424fdf",
   "metadata": {},
   "source": [
    "### Create a `3x3` matrix with values ranging from `0 to 8`."
   ]
  },
  {
   "cell_type": "code",
   "execution_count": 57,
   "id": "3472ccd0",
   "metadata": {},
   "outputs": [
    {
     "data": {
      "text/plain": [
       "array([[0, 1, 2],\n",
       "       [3, 4, 5],\n",
       "       [6, 7, 8]])"
      ]
     },
     "execution_count": 57,
     "metadata": {},
     "output_type": "execute_result"
    }
   ],
   "source": [
    "matrix = np.arange(0,9).reshape(3,3)\n",
    "matrix"
   ]
  },
  {
   "cell_type": "markdown",
   "id": "3e1bf7f5",
   "metadata": {},
   "source": [
    "### Find indices of non-zero elements from `[1,2,0,0,4,0]`."
   ]
  },
  {
   "cell_type": "code",
   "execution_count": 65,
   "id": "4b0fe461",
   "metadata": {},
   "outputs": [
    {
     "name": "stdout",
     "output_type": "stream",
     "text": [
      "Total non-zeros elements are :  3\n",
      "Indices of non-zeros elements are :  [0 1 4]\n",
      "(array([0, 0, 0]), array([0, 1, 4]))\n"
     ]
    }
   ],
   "source": [
    "array = [1,2,0,0,4,0]\n",
    "array = np.nonzero([array])\n",
    "print(\"Total non-zeros elements are : \",len(array[0]))\n",
    "print(\"Indices of non-zeros elements are : \" , array[1])\n",
    "print(array)"
   ]
  },
  {
   "cell_type": "markdown",
   "id": "4873d287",
   "metadata": {},
   "source": [
    "### Create a 3x3 identity matrix of type integer. `(Hint np.eye())`"
   ]
  },
  {
   "cell_type": "code",
   "execution_count": 69,
   "id": "df4bad4f",
   "metadata": {},
   "outputs": [
    {
     "data": {
      "text/plain": [
       "array([[1, 0, 0],\n",
       "       [0, 1, 0],\n",
       "       [0, 0, 1]])"
      ]
     },
     "execution_count": 69,
     "metadata": {},
     "output_type": "execute_result"
    }
   ],
   "source": [
    "matrix = np.eye(3, dtype = int)\n",
    "matrix"
   ]
  },
  {
   "cell_type": "markdown",
   "id": "5d22c536",
   "metadata": {},
   "source": [
    "### Create a 3x3x3 array with random values"
   ]
  },
  {
   "cell_type": "code",
   "execution_count": 89,
   "id": "c88a8279",
   "metadata": {},
   "outputs": [
    {
     "name": "stdout",
     "output_type": "stream",
     "text": [
      "3x3x3 array with random values : \n",
      "[[[49 98 97]\n",
      "  [58 88 99]\n",
      "  [81 84 52]]\n",
      "\n",
      " [[53 35  4]\n",
      "  [49 98 53]\n",
      "  [65 67 61]]\n",
      "\n",
      " [[10 84 13]\n",
      "  [51 32 99]\n",
      "  [12 25 32]]]\n"
     ]
    }
   ],
   "source": [
    "# First Method\n",
    "array = np.random.randint(1,100, 27).reshape(3,3,3)\n",
    "print(\"3x3x3 array with random values : \" , array, sep=\"\\n\")"
   ]
  },
  {
   "cell_type": "code",
   "execution_count": 93,
   "id": "9d185f53",
   "metadata": {},
   "outputs": [
    {
     "name": "stdout",
     "output_type": "stream",
     "text": [
      "3x3x3 array with random values : \n",
      "[[[97 58 96]\n",
      "  [16 89  1]\n",
      "  [ 7 78 26]]\n",
      "\n",
      " [[27 60 73]\n",
      "  [78 72 41]\n",
      "  [58 22 65]]\n",
      "\n",
      " [[82 82 60]\n",
      "  [91 37 30]\n",
      "  [31 95 83]]]\n"
     ]
    }
   ],
   "source": [
    "# Second Method\n",
    "array = np.random.randint(1,100, (3,3,3))\n",
    "print(\"3x3x3 array with random values : \" , array, sep=\"\\n\")"
   ]
  },
  {
   "cell_type": "code",
   "execution_count": 95,
   "id": "7335c50c",
   "metadata": {},
   "outputs": [
    {
     "name": "stdout",
     "output_type": "stream",
     "text": [
      "3x3x3 array with random values : \n",
      "[[[0.69292722 0.68902246 0.04786369]\n",
      "  [0.80568531 0.14118223 0.79656065]\n",
      "  [0.24070537 0.46495718 0.5992354 ]]\n",
      "\n",
      " [[0.92245723 0.81750677 0.79519082]\n",
      "  [0.1845357  0.33108126 0.97306186]\n",
      "  [0.53395456 0.11425567 0.89177813]]\n",
      "\n",
      " [[0.59385643 0.71290632 0.68688431]\n",
      "  [0.1043174  0.80897724 0.2160545 ]\n",
      "  [0.689038   0.93475177 0.71101708]]]\n"
     ]
    }
   ],
   "source": [
    "# Third Method\n",
    "array = np.random.random((3,3,3))\n",
    "print(\"3x3x3 array with random values : \" , array, sep=\"\\n\")"
   ]
  },
  {
   "cell_type": "markdown",
   "id": "c6a3c7f3",
   "metadata": {},
   "source": [
    "### Create a 10x10 array with random values and find the minimum and maximum values."
   ]
  },
  {
   "cell_type": "code",
   "execution_count": 104,
   "id": "28c3ff63",
   "metadata": {},
   "outputs": [
    {
     "name": "stdout",
     "output_type": "stream",
     "text": [
      "10x10 array with random values : \n",
      "[[71 63 63 96 73 75 82 91 53 60]\n",
      " [37 98 79 52 23 75 26 13 83 21]\n",
      " [29 13 63 87 12 20 41 25 59 21]\n",
      " [65 87 85 33 46 78 12 61 64 99]\n",
      " [64 95 79 81 96 69 84 36 18 46]\n",
      " [27 94 59 63 63 84 62 20 28 85]\n",
      " [90 74 52 23 11 90 73 82 18 32]\n",
      " [16 10 39 70 94 82 40 49 80 22]\n",
      " [13 53 25 81 70 58 64 87 92 46]\n",
      " [22 39 11 22 66 71 44 91 90 25]]\n",
      "Minimum value in 10x10 is :  10\n",
      "Maximum value in 10x10 is :  99\n"
     ]
    }
   ],
   "source": [
    "# First Method\n",
    "array = np.random.randint(10,100, (10,10))\n",
    "print(\"10x10 array with random values : \",array, sep=\"\\n\")\n",
    "print(\"Minimum value in 10x10 is : \", array.min())\n",
    "print(\"Maximum value in 10x10 is : \", array.max())"
   ]
  },
  {
   "cell_type": "code",
   "execution_count": 108,
   "id": "8e426994",
   "metadata": {},
   "outputs": [
    {
     "name": "stdout",
     "output_type": "stream",
     "text": [
      "10x10 array with random values : \n",
      "[[0.81686429 0.0771806  0.31932817 0.14231927 0.91868018 0.26019433\n",
      "  0.04753259 0.6664626  0.58548678 0.6792984 ]\n",
      " [0.84508414 0.84972386 0.01600216 0.49863144 0.98565401 0.33655439\n",
      "  0.07387186 0.15524781 0.73703025 0.09632862]\n",
      " [0.07172783 0.87946976 0.38722663 0.91460394 0.40062507 0.53798833\n",
      "  0.33595374 0.77916906 0.9562804  0.2386366 ]\n",
      " [0.19036763 0.69004783 0.23319203 0.63590758 0.62795477 0.02804543\n",
      "  0.88026805 0.45150703 0.02331299 0.90044219]\n",
      " [0.49750986 0.32719965 0.24305229 0.29477505 0.12804083 0.82310887\n",
      "  0.28241807 0.86513913 0.16372487 0.39901724]\n",
      " [0.4750039  0.14476457 0.27456    0.52739576 0.54817933 0.07542734\n",
      "  0.39396306 0.73564815 0.37696986 0.7203146 ]\n",
      " [0.58128364 0.99988192 0.98445367 0.82812611 0.25322176 0.54117692\n",
      "  0.92877352 0.98069159 0.0025231  0.39066292]\n",
      " [0.40952955 0.60936616 0.67210068 0.16313701 0.20107917 0.13185477\n",
      "  0.41157902 0.4605959  0.30127889 0.93735508]\n",
      " [0.86372495 0.33724011 0.59164013 0.17248571 0.37412056 0.12805628\n",
      "  0.16837556 0.90289465 0.17759014 0.86550963]\n",
      " [0.16038263 0.85223349 0.53338748 0.29603029 0.98349264 0.52626361\n",
      "  0.9546094  0.02520966 0.39927125 0.10415334]]\n",
      "Minimum value in 10x10 is :  0.0025230975554060286\n",
      "Maximum value in 10x10 is :  0.9998819175244625\n"
     ]
    }
   ],
   "source": [
    "array = np.random.random((10,10))\n",
    "print(\"10x10 array with random values : \",array, sep=\"\\n\")\n",
    "print(\"Minimum value in 10x10 is : \", array.min())\n",
    "print(\"Maximum value in 10x10 is : \", array.max())"
   ]
  },
  {
   "cell_type": "markdown",
   "id": "f338c4e6",
   "metadata": {},
   "source": [
    "### Create a random vector of size 30 and find the `mean` value."
   ]
  },
  {
   "cell_type": "code",
   "execution_count": 112,
   "id": "c1699bca",
   "metadata": {},
   "outputs": [
    {
     "name": "stdout",
     "output_type": "stream",
     "text": [
      "vector : \n",
      "[63 19 70 37 72 95 34 76 25 70  1 85 30 62 31 62 27 28 27 63 12 35 40 45\n",
      " 77 34 16 82 80 11]\n",
      "Mean of the vector is :  46.96666666666667\n"
     ]
    }
   ],
   "source": [
    "# First Method\n",
    "vector = np.random.randint(1,100, 30)\n",
    "print(\"vector : \", vector , sep=\"\\n\")\n",
    "print(\"Mean of the vector is : \", vector.mean())"
   ]
  },
  {
   "cell_type": "code",
   "execution_count": 115,
   "id": "63ea1e21",
   "metadata": {},
   "outputs": [
    {
     "name": "stdout",
     "output_type": "stream",
     "text": [
      "vector : \n",
      "[0.40646101 0.63508348 0.86852128 0.35128457 0.89982337 0.7210841\n",
      " 0.23058575 0.66442415 0.97797253 0.32020707 0.58795864 0.10433148\n",
      " 0.86495337 0.46457668 0.82929115 0.81885063 0.54202214 0.77887757\n",
      " 0.10878504 0.02729844 0.67666325 0.9977666  0.64325026 0.68571911\n",
      " 0.14396261 0.24737626 0.03337356 0.59076535 0.63416392 0.84389635]\n",
      "Mean of the vector is :  0.5566443237261397\n"
     ]
    }
   ],
   "source": [
    "# Second Method\n",
    "vector = np.random.random(size=30)\n",
    "print(\"vector : \", vector , sep=\"\\n\")\n",
    "print(\"Mean of the vector is : \", vector.mean())"
   ]
  },
  {
   "cell_type": "markdown",
   "id": "ccb25562",
   "metadata": {},
   "source": [
    "### Create a 2d array with `1` on the border and `0` inside."
   ]
  },
  {
   "cell_type": "code",
   "execution_count": 123,
   "id": "9390fde0",
   "metadata": {},
   "outputs": [
    {
     "data": {
      "text/plain": [
       "array([[1, 1, 1, 1, 1, 1, 1, 1, 1, 1],\n",
       "       [1, 1, 1, 1, 1, 1, 1, 1, 1, 1],\n",
       "       [1, 1, 1, 1, 1, 1, 1, 1, 1, 1],\n",
       "       [1, 1, 1, 1, 1, 1, 1, 1, 1, 1],\n",
       "       [1, 1, 1, 1, 1, 1, 1, 1, 1, 1],\n",
       "       [1, 1, 1, 1, 1, 1, 1, 1, 1, 1],\n",
       "       [1, 1, 1, 1, 1, 1, 1, 1, 1, 1],\n",
       "       [1, 1, 1, 1, 1, 1, 1, 1, 1, 1],\n",
       "       [1, 1, 1, 1, 1, 1, 1, 1, 1, 1],\n",
       "       [1, 1, 1, 1, 1, 1, 1, 1, 1, 1]])"
      ]
     },
     "execution_count": 123,
     "metadata": {},
     "output_type": "execute_result"
    }
   ],
   "source": [
    "array2D = np.ones((10,10), dtype=int)\n",
    "array2D"
   ]
  },
  {
   "cell_type": "code",
   "execution_count": 125,
   "id": "a031781c",
   "metadata": {},
   "outputs": [
    {
     "name": "stdout",
     "output_type": "stream",
     "text": [
      "2d array with 1 on the border and 0 inside : \n",
      "[[1 1 1 1 1 1 1 1 1 1]\n",
      " [1 0 0 0 0 0 0 0 0 1]\n",
      " [1 0 0 0 0 0 0 0 0 1]\n",
      " [1 0 0 0 0 0 0 0 0 1]\n",
      " [1 0 0 0 0 0 0 0 0 1]\n",
      " [1 0 0 0 0 0 0 0 0 1]\n",
      " [1 0 0 0 0 0 0 0 0 1]\n",
      " [1 0 0 0 0 0 0 0 0 1]\n",
      " [1 0 0 0 0 0 0 0 0 1]\n",
      " [1 1 1 1 1 1 1 1 1 1]]\n"
     ]
    }
   ],
   "source": [
    "array2D[1:-1,1:-1]=0\n",
    "print(\"2d array with 1 on the border and 0 inside : \", array2D, sep=\"\\n\")"
   ]
  },
  {
   "cell_type": "code",
   "execution_count": null,
   "id": "b982df03",
   "metadata": {},
   "outputs": [],
   "source": []
  },
  {
   "cell_type": "markdown",
   "id": "700be3b0",
   "metadata": {},
   "source": [
    "### How to add a border (filled with 0's) around an existing array."
   ]
  },
  {
   "cell_type": "code",
   "execution_count": 146,
   "id": "1108c3cf",
   "metadata": {},
   "outputs": [
    {
     "name": "stdout",
     "output_type": "stream",
     "text": [
      "[[0 0 0 0 0 0 0]\n",
      " [0 1 1 1 1 1 0]\n",
      " [0 1 1 1 1 1 0]\n",
      " [0 1 1 1 1 1 0]\n",
      " [0 1 1 1 1 1 0]\n",
      " [0 1 1 1 1 1 0]\n",
      " [0 0 0 0 0 0 0]]\n"
     ]
    }
   ],
   "source": [
    "# First Method\n",
    "array = np.ones((5,5), dtype=int)\n",
    "array = np.pad(array, pad_width=1, mode='constant', constant_values=0)\n",
    "print(array)"
   ]
  },
  {
   "cell_type": "code",
   "execution_count": 153,
   "id": "9e89b738",
   "metadata": {},
   "outputs": [
    {
     "data": {
      "text/plain": [
       "array([[0, 0, 0, 0, 0, 0, 0],\n",
       "       [0, 6, 8, 2, 7, 1, 0],\n",
       "       [0, 4, 6, 7, 7, 3, 0],\n",
       "       [0, 7, 4, 1, 3, 9, 0],\n",
       "       [0, 3, 2, 5, 8, 7, 0],\n",
       "       [0, 1, 6, 9, 1, 7, 0],\n",
       "       [0, 0, 0, 0, 0, 0, 0]])"
      ]
     },
     "execution_count": 153,
     "metadata": {},
     "output_type": "execute_result"
    }
   ],
   "source": [
    "# Second method\n",
    "array = np.random.randint(1,10,(5,5))\n",
    "array = np.pad(array, pad_width=1, mode='constant', constant_values=0)\n",
    "array"
   ]
  },
  {
   "cell_type": "markdown",
   "id": "44e53fe8",
   "metadata": {},
   "source": [
    "### What is the result of the following expression?\n",
    "- 0 * np.nan\n",
    "- np.nan == np.nan\n",
    "- np.inf > np.nan\n",
    "- np.nan - np.nan\n",
    "- np.nan in set([np.nan])\n",
    "- 0.3 == 3 * 0.1"
   ]
  },
  {
   "cell_type": "code",
   "execution_count": 157,
   "id": "b4f3cd42",
   "metadata": {},
   "outputs": [
    {
     "name": "stdout",
     "output_type": "stream",
     "text": [
      "nan\n",
      "False\n",
      "False\n",
      "nan\n",
      "True\n",
      "False\n"
     ]
    }
   ],
   "source": [
    "print(0 * np.nan)\n",
    "print(np.nan == np.nan)\n",
    "print(np.inf > np.nan)\n",
    "print(np.nan - np.nan)\n",
    "print(np.nan in set([np.nan]))\n",
    "print(0.3 == 3 * 0.1)"
   ]
  },
  {
   "cell_type": "markdown",
   "id": "e6d880b0",
   "metadata": {},
   "source": [
    "### Create a 5x5 matrix with values `1,2,3,4` just below the diagonal."
   ]
  },
  {
   "cell_type": "code",
   "execution_count": 188,
   "id": "90b5cad6",
   "metadata": {},
   "outputs": [
    {
     "name": "stdout",
     "output_type": "stream",
     "text": [
      "5x5 matrix with values 1,2,3,4 just below the diagonal : \n",
      "[[0 0 0 0 0]\n",
      " [1 0 0 0 0]\n",
      " [0 2 0 0 0]\n",
      " [0 0 3 0 0]\n",
      " [0 0 0 4 0]]\n"
     ]
    }
   ],
   "source": [
    "# First method\n",
    "matrix = np.diag([1,2,3,4], k=-1)\n",
    "print(\"5x5 matrix with values 1,2,3,4 just below the diagonal : \", matrix,sep=\"\\n\")"
   ]
  },
  {
   "cell_type": "code",
   "execution_count": 191,
   "id": "d512dbbf",
   "metadata": {},
   "outputs": [
    {
     "name": "stdout",
     "output_type": "stream",
     "text": [
      "5x5 matrix with values 1,2,3,4 just below the diagonal : \n",
      "[[0 0 0 0 0]\n",
      " [1 0 0 0 0]\n",
      " [0 2 0 0 0]\n",
      " [0 0 3 0 0]\n",
      " [0 0 0 4 0]]\n"
     ]
    }
   ],
   "source": [
    "# Second method\n",
    "a = 1 + np.arange(4)\n",
    "matrix = np.diag(a, k=-1)\n",
    "print(\"5x5 matrix with values 1,2,3,4 just below the diagonal : \", matrix,sep=\"\\n\")"
   ]
  },
  {
   "cell_type": "markdown",
   "id": "395e2a98",
   "metadata": {},
   "source": [
    "### numpy.diag() function\n",
    "- This function is used to extract diagonal or construct diagonal array.\n",
    "\n",
    "#### Syntax:\n",
    "```\n",
    "numpy.diag(v, k=0)\n",
    "```\n",
    "\n",
    "Parameters:\n",
    "- `v` : If v is a 2-D array, return a copy of its k-th diagonal. If v is a 1-D array, return a 2-D array with v on the k-th diagonal.\n",
    "- `k` : Diagonal in question. The default is 0. Use k>0 for diagonals above the main diagonal, and k<0 for diagonals below the main diagonal.\n",
    "\n",
    "![](images/numpy-diag-function-image-a.png)"
   ]
  },
  {
   "cell_type": "code",
   "execution_count": null,
   "id": "48a3d4fe",
   "metadata": {},
   "outputs": [],
   "source": []
  },
  {
   "cell_type": "markdown",
   "id": "74d06cae",
   "metadata": {},
   "source": [
    "### Examples"
   ]
  },
  {
   "cell_type": "code",
   "execution_count": 185,
   "id": "a735c3cd",
   "metadata": {},
   "outputs": [
    {
     "name": "stdout",
     "output_type": "stream",
     "text": [
      "Original Array : \n",
      "[[ 0  1  2]\n",
      " [ 3  4  5]\n",
      " [ 6  7  8]\n",
      " [ 9 10 11]]\n",
      "Diagonal of given array is :  [0 4 8]\n"
     ]
    }
   ],
   "source": [
    "import numpy as np\n",
    "a = np.arange(12).reshape((4,3))\n",
    "print(\"Original Array : \", a, sep=\"\\n\")\n",
    "print(\"Diagonal of given array is : \", np.diag(a))"
   ]
  },
  {
   "cell_type": "markdown",
   "id": "c81fabff",
   "metadata": {},
   "source": [
    "#### Pictorial Presentation\n",
    "<img src=\"images/numpy-diag-function-image-1.png\" height=200px width=200px >"
   ]
  },
  {
   "cell_type": "markdown",
   "id": "3e6858bf",
   "metadata": {},
   "source": [
    "### Create a `8x8` matrix and fill it with a checkerboard pattern.\n",
    "<img src=\"images/1200px-Checkerboard_Pattern_8x6.svg.png\" height=400px width=400px>"
   ]
  },
  {
   "cell_type": "code",
   "execution_count": 203,
   "id": "ff7b87fa",
   "metadata": {},
   "outputs": [
    {
     "name": "stdout",
     "output_type": "stream",
     "text": [
      "Checkerboard pattern of 8x8 matrix is : \n",
      "[[0 1 0 1 0 1 0 1]\n",
      " [1 0 1 0 1 0 1 0]\n",
      " [0 1 0 1 0 1 0 1]\n",
      " [1 0 1 0 1 0 1 0]\n",
      " [0 1 0 1 0 1 0 1]\n",
      " [1 0 1 0 1 0 1 0]\n",
      " [0 1 0 1 0 1 0 1]\n",
      " [1 0 1 0 1 0 1 0]]\n"
     ]
    }
   ],
   "source": [
    "matrix = np.zeros((8,8),dtype=int)\n",
    "\n",
    "matrix[1::2, ::2] = 1\n",
    "#     x[1::2, ::2] = 1 : Slice from 1st index row till 1+2+2… and \n",
    "#fill all columns with 1 starting from 0th to 0+2+2… and so on.\n",
    "\n",
    "\n",
    "matrix[::2,1::2] = 1\n",
    "# x[::2, 1::2] = 1 : Slice from 0th row till 0+2+2… and fill all columns with 1 starting from 1 to 1+2+2+…..\n",
    "print(\"Checkerboard pattern of 8x8 matrix is : \", matrix, sep=\"\\n\")\n",
    "\n",
    "# Note: we can print che checkerboard pattern of any size of matrix"
   ]
  },
  {
   "cell_type": "markdown",
   "id": "cc60d0cd",
   "metadata": {},
   "source": [
    "### Find similar elements between two matrix of different shapes."
   ]
  },
  {
   "cell_type": "code",
   "execution_count": 331,
   "id": "30925f8d",
   "metadata": {},
   "outputs": [
    {
     "name": "stdout",
     "output_type": "stream",
     "text": [
      "First Matrix : \n",
      "[[16 18  4]\n",
      " [10  6  7]\n",
      " [10 10  9]]\n",
      "\n",
      "\n",
      "\n",
      "Second Matrix : \n",
      "[[11 17 10]\n",
      " [16  9 10]\n",
      " [12 14 11]\n",
      " [15 14 18]]\n",
      "\n",
      "\n",
      "List of similar items of two matrix are : \n",
      "[16, 9, 18, 10]\n"
     ]
    }
   ],
   "source": [
    "# First Method\n",
    "# First matrix of (3,3)\n",
    "matrix1 = np.random.randint(1,20, (3,3))\n",
    "\n",
    "# Second matrix of (4,3)\n",
    "matrix2 = np.random.randint(5,20,(4,3))\n",
    "print(\"First Matrix : \", matrix1, sep=\"\\n\")\n",
    "print(\"\\n\\n\")\n",
    "print(\"Second Matrix : \", matrix2, sep=\"\\n\")\n",
    "print(\"\\n\")\n",
    "def check_similar_elements(mat1, mat2):\n",
    "    return set([items for items in mat1 if items in mat2])\n",
    "\n",
    "items = list(check_similar_elements(matrix1.flatten(), matrix2.flatten()))\n",
    "print(\"List of similar items of two matrix are : \", items, sep=\"\\n\")\n",
    "\n"
   ]
  },
  {
   "cell_type": "code",
   "execution_count": 332,
   "id": "e3aa7119",
   "metadata": {},
   "outputs": [
    {
     "name": "stdout",
     "output_type": "stream",
     "text": [
      "List of similar items of two matrix are : \n",
      "[ 9 10 16 18]\n"
     ]
    }
   ],
   "source": [
    "# Second method\n",
    "items = np.intersect1d(matrix1, matrix2)\n",
    "print(\"List of similar items of two matrix are : \", items, sep=\"\\n\")"
   ]
  },
  {
   "cell_type": "markdown",
   "id": "cf6dc166",
   "metadata": {},
   "source": [
    "### Create a checkerboard 8x8 matrix using the `tile` function."
   ]
  },
  {
   "cell_type": "code",
   "execution_count": 247,
   "id": "e2b07843",
   "metadata": {},
   "outputs": [
    {
     "name": "stdout",
     "output_type": "stream",
     "text": [
      "Checkerboard of 8x8 using title function : \n",
      "[[0 1 0 1 0 1 0 1]\n",
      " [1 0 1 0 1 0 1 0]\n",
      " [0 1 0 1 0 1 0 1]\n",
      " [1 0 1 0 1 0 1 0]\n",
      " [0 1 0 1 0 1 0 1]\n",
      " [1 0 1 0 1 0 1 0]\n",
      " [0 1 0 1 0 1 0 1]\n",
      " [1 0 1 0 1 0 1 0]]\n"
     ]
    }
   ],
   "source": [
    "matrix = np.array([[0,1],[1,0]])\n",
    "print(\"Checkerboard of 8x8 using title function : \", np.tile(matrix, (4,4)), sep=\"\\n\")"
   ]
  },
  {
   "cell_type": "markdown",
   "id": "77301726",
   "metadata": {},
   "source": [
    "### Normalize a 5x5 random matrix using numpy.\n",
    "<img src=\"images/1616512439644.jpeg\" height=500px width=500px>"
   ]
  },
  {
   "cell_type": "code",
   "execution_count": 267,
   "id": "ad6cc282",
   "metadata": {},
   "outputs": [
    {
     "name": "stdout",
     "output_type": "stream",
     "text": [
      "Before Normalization matrix is : \n",
      "[[16 12 17  3 15]\n",
      " [ 3  2 12  7  2]\n",
      " [10 17 15  5 14]\n",
      " [10 10  8 14  6]\n",
      " [ 5 13  3  5 18]]\n",
      "\n",
      "\n",
      "\n",
      "After Normalization matrix is : \n",
      "[[0.875  0.625  0.9375 0.0625 0.8125]\n",
      " [0.0625 0.     0.625  0.3125 0.    ]\n",
      " [0.5    0.9375 0.8125 0.1875 0.75  ]\n",
      " [0.5    0.5    0.375  0.75   0.25  ]\n",
      " [0.1875 0.6875 0.0625 0.1875 1.    ]]\n"
     ]
    }
   ],
   "source": [
    "# First method\n",
    "matrix = np.random.randint(1,20,(5,5))\n",
    "print(\"Before Normalization matrix is : \", matrix, sep=\"\\n\")\n",
    "\n",
    "# Normalization Formula\n",
    "Xmax , Xmin = matrix.max(), matrix.min()\n",
    "Xnormalized = (matrix-Xmin)/(Xmax-Xmin)\n",
    "\n",
    "print(\"\\n\\n\")\n",
    "\n",
    "print(\"After Normalization matrix is : \", Xnormalized, sep=\"\\n\")"
   ]
  },
  {
   "cell_type": "code",
   "execution_count": 269,
   "id": "11189403",
   "metadata": {},
   "outputs": [
    {
     "name": "stdout",
     "output_type": "stream",
     "text": [
      "Before Normalization matrix is : \n",
      "[[0.3757811  0.04411975 0.05685107 0.97622709 0.76229347]\n",
      " [0.16058966 0.1863095  0.20297079 0.4095602  0.81819878]\n",
      " [0.41258205 0.66500263 0.4945396  0.73404388 0.05487725]\n",
      " [0.4739625  0.90352041 0.03278523 0.36256798 0.74032356]\n",
      " [0.88103226 0.27657728 0.64787112 0.2778744  0.7779088 ]]\n",
      "\n",
      "\n",
      "\n",
      "After Normalization matrix is : \n",
      "[[-0.31523606 -1.43518734 -1.39219634  1.71234498  0.98993573]\n",
      " [-1.04189271 -0.95504219 -0.89878046 -0.20117105  1.1787163 ]\n",
      " [-0.19096691  0.66140483  0.08578667  0.89454272 -1.39886151]\n",
      " [ 0.0163021   1.46682969 -1.47346166 -0.35985399  0.91574789]\n",
      " [ 1.39089187 -0.65022668  0.60355526 -0.64584659  1.04266545]]\n"
     ]
    }
   ],
   "source": [
    "# Second method\n",
    "matrix = np.random.random((5,5))\n",
    "print(\"Before Normalization matrix is : \", matrix, sep=\"\\n\")\n",
    "Normalized = (matrix-np.mean(matrix))/np.std(matrix)\n",
    "print(\"\\n\\n\")\n",
    "print(\"After Normalization matrix is : \", Normalized, sep=\"\\n\")"
   ]
  },
  {
   "cell_type": "code",
   "execution_count": 277,
   "id": "16ea3aaa",
   "metadata": {},
   "outputs": [
    {
     "name": "stdout",
     "output_type": "stream",
     "text": [
      "Before Normalization matrix is : \n",
      "[[ 382  585  552 1962  654]\n",
      " [ 397  655 1186  152  511]\n",
      " [1610 1462 1877 1227  894]\n",
      " [1099 1765 1847  129  173]\n",
      " [ 595  110  792  452  616]]\n",
      "\n",
      "\n",
      "\n",
      "After Normalization matrix is : \n",
      "[[-0.83458655 -0.48552386 -0.54226804  1.8822561  -0.36687693]\n",
      " [-0.80879374 -0.36515741  0.54790807 -1.23007631 -0.61276839]\n",
      " [ 1.27698483  1.02249577  1.73609685  0.61840841  0.04580803]\n",
      " [ 0.39830977  1.54351053  1.68451123 -1.26962528 -1.19396637]\n",
      " [-0.46832865 -1.30229617 -0.12958308 -0.7142201  -0.43221872]]\n"
     ]
    }
   ],
   "source": [
    "# Third Method\n",
    "matrix = np.random.randint(100,2000,(5,5))\n",
    "print(\"Before Normalization matrix is : \", matrix, sep=\"\\n\")\n",
    "normalized = (matrix - np.mean(matrix))/np.std(matrix)\n",
    "print(\"\\n\\n\")\n",
    "print(\"After Normalization matrix is : \", normalized, sep=\"\\n\")"
   ]
  },
  {
   "cell_type": "markdown",
   "id": "3803e02d",
   "metadata": {},
   "source": [
    "### Create a custom dtype that describes a color as four `unsigned bytes (RGBA)`."
   ]
  },
  {
   "cell_type": "code",
   "execution_count": 285,
   "id": "bc54421e",
   "metadata": {},
   "outputs": [
    {
     "name": "stdout",
     "output_type": "stream",
     "text": [
      "[('r', 'u1'), ('g', 'u1'), ('b', 'u1'), ('a', 'u1')]\n"
     ]
    }
   ],
   "source": [
    "colors =np.dtype([('r', np.ubyte),\n",
    "                 ('g', np.ubyte),\n",
    "                  ('b', np.ubyte),\n",
    "                 ('a', np.ubyte)])\n",
    "print(colors)"
   ]
  },
  {
   "cell_type": "markdown",
   "id": "09a0a4f4",
   "metadata": {},
   "source": [
    "### Multiply a 5x3 matrix by a 3x2 matrix `(real matrix product)`."
   ]
  },
  {
   "cell_type": "code",
   "execution_count": 293,
   "id": "5570a88c",
   "metadata": {},
   "outputs": [
    {
     "name": "stdout",
     "output_type": "stream",
     "text": [
      "First Matrix is : \n",
      "[[1 1 1]\n",
      " [1 1 1]\n",
      " [1 1 1]\n",
      " [1 1 1]\n",
      " [1 1 1]]\n",
      "Second Matrix is : \n",
      "[[1 1]\n",
      " [1 1]\n",
      " [1 1]]\n",
      "Product of both matrices are : \n",
      "[[3 3]\n",
      " [3 3]\n",
      " [3 3]\n",
      " [3 3]\n",
      " [3 3]]\n"
     ]
    }
   ],
   "source": [
    "matrix1 = np.ones((5,3), dtype=np.int8)\n",
    "print(\"First Matrix is : \", matrix1, sep=\"\\n\")\n",
    "matrix2 = np.ones((3,2), dtype=np.int8)\n",
    "print(\"Second Matrix is : \", matrix2, sep=\"\\n\")\n",
    "product = np.dot(matrix1, matrix2)\n",
    "print(\"Product of both matrices are : \", product, sep=\"\\n\")"
   ]
  },
  {
   "cell_type": "code",
   "execution_count": 297,
   "id": "ad382309",
   "metadata": {},
   "outputs": [
    {
     "name": "stdout",
     "output_type": "stream",
     "text": [
      "First Matrix is : \n",
      "[[1 1 1]\n",
      " [1 1 1]\n",
      " [1 1 1]\n",
      " [1 1 1]\n",
      " [1 1 1]]\n",
      "Second Matrix is : \n",
      "[[1 1]\n",
      " [1 1]\n",
      " [1 1]]\n",
      "Product of both matrices are : \n",
      "[[3 3]\n",
      " [3 3]\n",
      " [3 3]\n",
      " [3 3]\n",
      " [3 3]]\n"
     ]
    }
   ],
   "source": [
    "# Second method\n",
    "matrix1 = np.ones((5,3), dtype=np.int8)\n",
    "print(\"First Matrix is : \", matrix1, sep=\"\\n\")\n",
    "matrix2 = np.ones((3,2), dtype=np.int8)\n",
    "print(\"Second Matrix is : \", matrix2, sep=\"\\n\")\n",
    "product = matrix1 @ matrix2\n",
    "print(\"Product of both matrices are : \", product, sep=\"\\n\")"
   ]
  },
  {
   "cell_type": "markdown",
   "id": "07ada626",
   "metadata": {},
   "source": [
    "### Given a 1D array, `negate` all elements which are between 3 and 8, in place.\n",
    "##### Input : 1,2,3,4,5,6,7,8,9,10,....\n",
    "##### Output : 1,2,3,-4,-5,-6,-7,8,9,10,..."
   ]
  },
  {
   "cell_type": "code",
   "execution_count": 310,
   "id": "52651329",
   "metadata": {},
   "outputs": [
    {
     "name": "stdout",
     "output_type": "stream",
     "text": [
      "Original Array :  [ 0  1  2  3  4  5  6  7  8  9 10]\n",
      "After negation array is :  [ 0  1  2  3 -4 -5 -6 -7  8  9 10]\n"
     ]
    }
   ],
   "source": [
    "array = np.arange(11)\n",
    "print(\"Original Array : \", array)\n",
    "array[(array>3) & (array<8)] = array[(array>3) & (array<8)] * -1\n",
    "print(\"After negation array is : \", array)"
   ]
  },
  {
   "cell_type": "markdown",
   "id": "1eb92193",
   "metadata": {},
   "source": [
    "### Consider an integer vector Z, which of these expressions are legal? "
   ]
  },
  {
   "cell_type": "code",
   "execution_count": 333,
   "id": "f70f33b3",
   "metadata": {},
   "outputs": [],
   "source": [
    "Z = np.array([2,3,4])\n",
    "# Z**Z    -> Legal\n",
    "# 2 << Z >> 2    -> Legal\n",
    "# Z <- Z    -> Legal\n",
    "# 1j*Z      -> Legal\n",
    "# Z/1/1     -> Legal\n",
    "# Z<Z>Z     -> illegal"
   ]
  },
  {
   "cell_type": "code",
   "execution_count": 360,
   "id": "3f9b2bbc",
   "metadata": {},
   "outputs": [
    {
     "data": {
      "text/plain": [
       "array([ 0.49180451,  5.86908851, -4.59592205, -3.91916009,  4.53561511,\n",
       "        4.27698951, -4.04740018,  6.5090785 , -1.36064052, -5.3508564 ])"
      ]
     },
     "execution_count": 360,
     "metadata": {},
     "output_type": "execute_result"
    }
   ],
   "source": [
    "a = np.random.uniform(-10,10,10)\n",
    "a"
   ]
  },
  {
   "cell_type": "code",
   "execution_count": 350,
   "id": "dfb98214",
   "metadata": {},
   "outputs": [
    {
     "data": {
      "text/plain": [
       "array([8.94368824, 8.27683616, 4.15147233, 7.57505935, 9.0957827 ,\n",
       "       1.33284117, 5.79328991, 1.14798067, 4.95647526, 0.93472442])"
      ]
     },
     "execution_count": 350,
     "metadata": {},
     "output_type": "execute_result"
    }
   ],
   "source": [
    "b = np.abs(a)\n",
    "b"
   ]
  },
  {
   "cell_type": "code",
   "execution_count": 355,
   "id": "d8e9142d",
   "metadata": {},
   "outputs": [
    {
     "data": {
      "text/plain": [
       "array([ 9.,  9.,  5.,  8., 10.,  2.,  6.,  2.,  5.,  1.])"
      ]
     },
     "execution_count": 355,
     "metadata": {},
     "output_type": "execute_result"
    }
   ],
   "source": [
    "c =np.ceil(b)\n",
    "c"
   ]
  },
  {
   "cell_type": "code",
   "execution_count": 356,
   "id": "cb6aa382",
   "metadata": {},
   "outputs": [
    {
     "data": {
      "text/plain": [
       "array([ 9.,  9.,  5.,  8., 10.,  2.,  6.,  2.,  5.,  1.])"
      ]
     },
     "execution_count": 356,
     "metadata": {},
     "output_type": "execute_result"
    }
   ],
   "source": [
    "np.copysign(c,a)"
   ]
  },
  {
   "cell_type": "markdown",
   "id": "53ea4672",
   "metadata": {},
   "source": [
    "### How to round away from zero a float array ?"
   ]
  },
  {
   "cell_type": "code",
   "execution_count": 375,
   "id": "5092ab43",
   "metadata": {},
   "outputs": [
    {
     "name": "stdout",
     "output_type": "stream",
     "text": [
      "Array is : \n",
      "[ 5.05347514  8.75053478 -1.69180044  0.73318578  9.66359751  5.67551271\n",
      "  1.13550441 -8.29336928  8.35469895  8.71679698]\n",
      "New rounded array is :  [ 6.  9. -2.  1. 10.  6.  2. -9.  9.  9.]\n"
     ]
    }
   ],
   "source": [
    "# First Method\n",
    "array = np.random.uniform(-10,10,10)\n",
    "print(\"Array is : \", array, sep=\"\\n\")\n",
    "a = np.ceil(np.abs(array))\n",
    "print(\"New rounded array is : \",np.copysign(a,array))"
   ]
  },
  {
   "cell_type": "code",
   "execution_count": 376,
   "id": "b882e8e0",
   "metadata": {},
   "outputs": [
    {
     "name": "stdout",
     "output_type": "stream",
     "text": [
      "[ 6.  9. -2.  1. 10.  6.  2. -9.  9.  9.]\n"
     ]
    }
   ],
   "source": [
    "# Second Method\n",
    "# More readable but less efficient\n",
    "print(np.where(array>0, np.ceil(array), np.floor(array)))"
   ]
  },
  {
   "cell_type": "code",
   "execution_count": null,
   "id": "4397db8a",
   "metadata": {},
   "outputs": [],
   "source": []
  },
  {
   "cell_type": "code",
   "execution_count": null,
   "id": "9ccce777",
   "metadata": {},
   "outputs": [],
   "source": []
  },
  {
   "cell_type": "code",
   "execution_count": null,
   "id": "1f045d24",
   "metadata": {},
   "outputs": [],
   "source": []
  }
 ],
 "metadata": {
  "kernelspec": {
   "display_name": "Python 3 (ipykernel)",
   "language": "python",
   "name": "python3"
  },
  "language_info": {
   "codemirror_mode": {
    "name": "ipython",
    "version": 3
   },
   "file_extension": ".py",
   "mimetype": "text/x-python",
   "name": "python",
   "nbconvert_exporter": "python",
   "pygments_lexer": "ipython3",
   "version": "3.8.10"
  }
 },
 "nbformat": 4,
 "nbformat_minor": 5
}
